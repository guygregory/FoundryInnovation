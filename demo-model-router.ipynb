{
 "cells": [
  {
   "cell_type": "markdown",
   "id": "21d6afdd",
   "metadata": {},
   "source": [
    "# Model Router demo"
   ]
  },
  {
   "cell_type": "markdown",
   "id": "596fae3f",
   "metadata": {},
   "source": [
    "#### Import libraries and initialize the OpenAI client"
   ]
  },
  {
   "cell_type": "code",
   "execution_count": null,
   "id": "bed677a3",
   "metadata": {},
   "outputs": [
    {
     "data": {
      "text/plain": [
       "True"
      ]
     },
     "execution_count": 36,
     "metadata": {},
     "output_type": "execute_result"
    }
   ],
   "source": [
    "import os\n",
    "from openai import OpenAI\n",
    "from dotenv import load_dotenv\n",
    "load_dotenv()\n",
    "\n",
    "client = OpenAI(\n",
    "    api_key=os.getenv(\"AZURE_OPENAI_API_KEY\"),\n",
    "    base_url=os.getenv(\"AZURE_OPENAI_V1_API_ENDPOINT\"),\n",
    ")"
   ]
  },
  {
   "cell_type": "markdown",
   "id": "0795d467",
   "metadata": {},
   "source": [
    "#### Create a function for the request"
   ]
  },
  {
   "cell_type": "code",
   "execution_count": 38,
   "id": "a8741d44",
   "metadata": {},
   "outputs": [],
   "source": [
    "def modelrouter(prompt: str) -> None:\n",
    "    \"\"\"Send a prompt to the Azure AI Foundry model router and print prompt, response, and model used.\n",
    "\n",
    "    Parameters\n",
    "    ----------\n",
    "    prompt : str\n",
    "        The user prompt/question to send to the chat completion endpoint.\n",
    "    \"\"\"\n",
    "    response = client.chat.completions.create(\n",
    "        model=\"model-router\",\n",
    "        messages=[{\"role\": \"user\", \"content\": prompt}],\n",
    "        max_tokens=8192,\n",
    "        temperature=0.7,\n",
    "        top_p=0.95,\n",
    "        frequency_penalty=0.0,\n",
    "        presence_penalty=0.0,\n",
    "    )\n",
    "\n",
    "    # Print required output lines\n",
    "    print(\"PROMPT: \" + prompt)\n",
    "    print(\"RESPONSE: \" + response.choices[0].message.content)\n",
    "    print(\"MODEL: \" + response.model)\n"
   ]
  },
  {
   "cell_type": "markdown",
   "id": "0afca778",
   "metadata": {},
   "source": [
    "#### Simple example"
   ]
  },
  {
   "cell_type": "code",
   "execution_count": 39,
   "id": "8800461a",
   "metadata": {},
   "outputs": [
    {
     "name": "stdout",
     "output_type": "stream",
     "text": [
      "PROMPT: What is 2+2?\n",
      "RESPONSE: 4\n",
      "MODEL: gpt-5-nano-2025-08-07\n"
     ]
    }
   ],
   "source": [
    "modelrouter(\"What is 2+2?\")"
   ]
  },
  {
   "cell_type": "markdown",
   "id": "3794d49c",
   "metadata": {},
   "source": [
    "#### Harder example"
   ]
  },
  {
   "cell_type": "code",
   "execution_count": 40,
   "id": "71b2fd07",
   "metadata": {},
   "outputs": [
    {
     "name": "stdout",
     "output_type": "stream",
     "text": [
      "PROMPT: What is the 4-digit number in which the first digit is one-fifth of the last, and the second and third digits are the last digit multiplied by 3? (Hint: The sum of all digits is 12.)\n",
      "RESPONSE: 1155\n",
      "\n",
      "Explanation: Let the digits be a b c d. a = d/5, and the two-digit number bc = 3·d. Since a must be nonzero, d = 5, so a = 1 and bc = 15, i.e. b = 1, c = 5. The digit sum 1+1+5+5 = 12 checks out.\n",
      "MODEL: gpt-5-mini-2025-08-07\n"
     ]
    }
   ],
   "source": [
    "modelrouter(\"What is the 4-digit number in which the first digit is one-fifth of the last, and the second and third digits are the last digit multiplied by 3? (Hint: The sum of all digits is 12.)\")"
   ]
  }
 ],
 "metadata": {
  "kernelspec": {
   "display_name": "Python 3",
   "language": "python",
   "name": "python3"
  },
  "language_info": {
   "codemirror_mode": {
    "name": "ipython",
    "version": 3
   },
   "file_extension": ".py",
   "mimetype": "text/x-python",
   "name": "python",
   "nbconvert_exporter": "python",
   "pygments_lexer": "ipython3",
   "version": "3.13.7"
  }
 },
 "nbformat": 4,
 "nbformat_minor": 5
}
