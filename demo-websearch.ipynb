{
 "cells": [
  {
   "cell_type": "markdown",
   "id": "845f3016",
   "metadata": {},
   "source": [
    "# Web Search Preview in Responses API"
   ]
  },
  {
   "cell_type": "markdown",
   "id": "a12debeb",
   "metadata": {},
   "source": [
    "#### Import required libraries and define the OpenAI client using the v1 API"
   ]
  },
  {
   "cell_type": "code",
   "execution_count": 1,
   "id": "1e1772d0",
   "metadata": {},
   "outputs": [],
   "source": [
    "import os\n",
    "from openai import OpenAI\n",
    "from dotenv import load_dotenv\n",
    "load_dotenv()\n",
    "\n",
    "client = OpenAI(\n",
    "    api_key=os.getenv(\"AZURE_OPENAI_API_KEY_WEBSEARCH\"),\n",
    "    base_url=os.getenv(\"AZURE_OPENAI_V1_API_ENDPOINT_WEBSEARCH\"),\n",
    ")"
   ]
  },
  {
   "cell_type": "markdown",
   "id": "6f102efd",
   "metadata": {},
   "source": [
    "#### Example using web_search_preview tool"
   ]
  },
  {
   "cell_type": "code",
   "execution_count": 2,
   "id": "15b78324",
   "metadata": {},
   "outputs": [
    {
     "name": "stdout",
     "output_type": "stream",
     "text": [
      "The most recent post on the Azure AI Foundry blog is \"AI-Assisted Development powered by Local Models\" (published September 18, 2025). \n",
      "\n",
      "**Summary:** This article introduces Foundry Local—a solution for running AI models directly on your device within Visual Studio Code, enabling privacy-preserving, flexible, and offline AI-assisted development.\n",
      "\n",
      "**Direct link to the article:** [AI-Assisted Development powered by Local Models | Azure AI Foundry Blog](https://devblogs.microsoft.com/foundry/ai-assisted-development-powered-by-local-models/)\n"
     ]
    }
   ],
   "source": [
    "response = client.responses.create( \n",
    "    model=os.getenv(\"AZURE_OPENAI_API_MODEL_WEBSEARCH\"),\n",
    "    tools=[{\"type\": \"web_search_preview\"}],\n",
    "    input=\"What's the most recent post on the Azure AI Foundry blog? Provide a one-sentence summary and a direct link to the article.\",\n",
    ")\n",
    "print(response.output_text)"
   ]
  },
  {
   "cell_type": "markdown",
   "id": "4e523f4a",
   "metadata": {},
   "source": [
    "#### Example using web_search_preview **and** MCP tools"
   ]
  },
  {
   "cell_type": "code",
   "execution_count": 3,
   "id": "8e61c811",
   "metadata": {},
   "outputs": [
    {
     "name": "stdout",
     "output_type": "stream",
     "text": [
      "**Description in one sentence:**\n",
      "The Browser Automation Tool (Preview) for Azure AI Foundry Agent Service enables agents to perform real-world browser actions such as navigating, searching, and interacting with web pages through natural language prompts, using isolated cloud-hosted Playwright Workspaces.\n",
      "\n",
      "**Microsoft Learn Quickstart Guide:**  \n",
      "[How to use Browser Automation in Azure AI Foundry Agent Service (Quickstart)](https://learn.microsoft.com/en-us/azure/ai-foundry/agents/how-to/tools/browser-automation)\n",
      "\n",
      "**Azure AI Foundry Blog Announcement:**  \n",
      "[Announcing the Browser Automation Tool (Preview) in Azure AI Foundry Agent Service](https://devblogs.microsoft.com/foundry/announcing-the-browser-automation-tool-preview-in-azure-ai-foundry-agent-service/)\n"
     ]
    }
   ],
   "source": [
    "response = client.responses.create(\n",
    "    model=os.environ[\"AZURE_OPENAI_API_MODEL_WEBSEARCH\"],\n",
    "    tools=[\n",
    "        {\n",
    "            \"type\": \"mcp\",\n",
    "            \"server_label\": \"MicrosoftLearn\",\n",
    "            \"server_url\": \"https://learn.microsoft.com/api/mcp\",\n",
    "            \"require_approval\": \"never\",\n",
    "        },\n",
    "        {\"type\": \"web_search_preview\"}\n",
    "    ],\n",
    "    input=\"Describe the Browser Automation Tool (Preview) for Azure AI Foundry Agent Service in one sentence. Provide a link to the Microsoft Learn Quickstart guide, and find the announcement from the Azure AI Foundry Blog on the web.\",\n",
    ")\n",
    "\n",
    "print(response.output_text)"
   ]
  }
 ],
 "metadata": {
  "kernelspec": {
   "display_name": "Python 3",
   "language": "python",
   "name": "python3"
  },
  "language_info": {
   "codemirror_mode": {
    "name": "ipython",
    "version": 3
   },
   "file_extension": ".py",
   "mimetype": "text/x-python",
   "name": "python",
   "nbconvert_exporter": "python",
   "pygments_lexer": "ipython3",
   "version": "3.13.7"
  }
 },
 "nbformat": 4,
 "nbformat_minor": 5
}
